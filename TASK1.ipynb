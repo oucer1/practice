{
 "cells": [
  {
   "cell_type": "markdown",
   "metadata": {},
   "source": [
    "# TASK1"
   ]
  },
  {
   "cell_type": "markdown",
   "metadata": {},
   "source": [
    "## 变量运算符和数据类型"
   ]
  },
  {
   "cell_type": "markdown",
   "metadata": {},
   "source": [
    "### 注释"
   ]
  },
  {
   "cell_type": "code",
   "execution_count": 1,
   "metadata": {},
   "outputs": [
    {
     "name": "stdout",
     "output_type": "stream",
     "text": [
      "#进行注释\n"
     ]
    }
   ],
   "source": [
    "print(\"#进行注释\")"
   ]
  },
  {
   "cell_type": "code",
   "execution_count": 2,
   "metadata": {},
   "outputs": [
    {
     "name": "stdout",
     "output_type": "stream",
     "text": [
      "三引号 多行注释\n"
     ]
    }
   ],
   "source": [
    "'''\n",
    "这是多行注释 三引号\n",
    "'''\n",
    "print(\"三引号 多行注释 区间注释\")"
   ]
  },
  {
   "cell_type": "markdown",
   "metadata": {},
   "source": [
    "## 运算符 "
   ]
  },
  {
   "cell_type": "markdown",
   "metadata": {},
   "source": [
    "<b>算术运算符</b>\n",
    "\n",
    "操作符 | 名称 | 示例\n",
    ":---:|:---:|:---:\n",
    "`+` | 加 | `1 + 1`\n",
    "`-` | 减 | `2 - 1`\n",
    "`*` | 乘 | `3 * 4`\n",
    "`/` | 除 | `3 / 4`\n",
    "`//`| 整除（地板除）| `3 // 4`\n",
    "`%` | 取余| `3 % 4`\n",
    "`**`| 幂 | `2 ** 3`"
   ]
  },
  {
   "cell_type": "code",
   "execution_count": 8,
   "metadata": {},
   "outputs": [
    {
     "name": "stdout",
     "output_type": "stream",
     "text": [
      "1+1 = 2\n",
      "2-1 = 1\n",
      "3*4 =  12\n",
      "3/4 =  0.75\n",
      "3//4 =  0\n",
      "3%4 =  3\n",
      "2**3 =  8\n"
     ]
    }
   ],
   "source": [
    "print(\"1+1 =\",1+1)\n",
    "print(\"2-1 =\",2-1)\n",
    "print(\"3*4 = \",3*4)\n",
    "print(\"3/4 = \",3/4)\n",
    "print(\"3//4 = \",3//4)#整除\n",
    "print(\"3%4 = \",3%4 )#取余\n",
    "print(\"2**3 = \",2**3)"
   ]
  },
  {
   "cell_type": "markdown",
   "metadata": {},
   "source": [
    "<b>比较运算符</b>\n",
    "\n",
    "操作符 | 名称 | 示例\n",
    ":---:|:---:|:---:\n",
    "`>` |大于| `2 > 1`\n",
    "`>=`|大于等于| `2 >= 4`\n",
    "`<` |小于| `1 < 2`\n",
    "`<=`|小于等于| `5 <= 2`\n",
    "`==`|等于| `3 == 4`\n",
    "`!=`|不等于| `3 != 5`"
   ]
  },
  {
   "cell_type": "code",
   "execution_count": 10,
   "metadata": {},
   "outputs": [
    {
     "name": "stdout",
     "output_type": "stream",
     "text": [
      "2>1 True\n",
      "2>=4 False\n",
      "True\n",
      "False\n",
      "False\n",
      "True\n"
     ]
    }
   ],
   "source": [
    "print(\"2>1\",2>1)\n",
    "print(\"2>=4\",2>=4)\n",
    "print(1<2)\n",
    "print(5<=2)\n",
    "print(3==4)\n",
    "print(3!=5)"
   ]
  },
  {
   "cell_type": "markdown",
   "metadata": {},
   "source": [
    " <b>逻辑运算符</b>\n",
    "\n",
    "操作符 | 名称 | 示例\n",
    ":---:|:---:|:---:\n",
    "`and`|与| `(3 > 2) and (3 < 5)`\n",
    "`or` |或| `(1 > 3) or (9 < 2)`\n",
    "`not`|非| `not (2 > 1)`"
   ]
  },
  {
   "cell_type": "code",
   "execution_count": 11,
   "metadata": {},
   "outputs": [
    {
     "name": "stdout",
     "output_type": "stream",
     "text": [
      "True\n",
      "False\n",
      "False\n"
     ]
    }
   ],
   "source": [
    "print((3>2) and (3<5))\n",
    "print((1>3) or (9<2))\n",
    "print(not(2>1))"
   ]
  },
  {
   "cell_type": "markdown",
   "metadata": {},
   "source": [
    "<b>位运算符</b>\n",
    "\n",
    "操作符 | 名称 | 示例\n",
    ":---:|:---:|:---:\n",
    "`~` |按位取反|`~4`\n",
    "`&` |按位与  |`4 & 5`\n",
    "`|` |按位或  |`4 | 5`\n",
    "`^` |按位异或|`4 ^ 5`\n",
    "`<<`|左移    |`4 << 2`\n",
    "`>>`|右移    |`4 >> 2`\n",
    "\n",
    "【例子】有关二进制的运算，参见“位运算”部分的讲解。"
   ]
  },
  {
   "cell_type": "code",
   "execution_count": 12,
   "metadata": {},
   "outputs": [
    {
     "name": "stdout",
     "output_type": "stream",
     "text": [
      "0b100\n",
      "0b101\n",
      "-0b101 -5\n",
      "0b100 4\n",
      "0b101 5\n",
      "0b1 1\n",
      "0b10000 16\n",
      "0b1 1\n"
     ]
    }
   ],
   "source": [
    "print(bin(4))  # 0b100\n",
    "print(bin(5))  # 0b101\n",
    "print(bin(~4), ~4)  # -0b101 -5\n",
    "print(bin(4 & 5), 4 & 5)  # 0b100 4\n",
    "print(bin(4 | 5), 4 | 5)  # 0b101 5\n",
    "print(bin(4 ^ 5), 4 ^ 5)  # 0b1 1\n",
    "print(bin(4 << 2), 4 << 2)  # 0b10000 16\n",
    "print(bin(4 >> 2), 4 >> 2)  # 0b1 1"
   ]
  },
  {
   "cell_type": "code",
   "execution_count": 17,
   "metadata": {},
   "outputs": [
    {
     "name": "stdout",
     "output_type": "stream",
     "text": [
      "100\n",
      "5\n",
      "101\n",
      "-0b101 -5\n",
      "-5\n"
     ]
    }
   ],
   "source": [
    "print(bin(4)[2:])\n",
    "print((5))\n",
    "print(bin(~4)[3:])\n",
    "print(bin(~4),~4)\n",
    "print(~4)"
   ]
  },
  {
   "cell_type": "markdown",
   "metadata": {},
   "source": [
    "<b>三元运算符<b/>"
   ]
  },
  {
   "cell_type": "code",
   "execution_count": 18,
   "metadata": {},
   "outputs": [
    {
     "name": "stdout",
     "output_type": "stream",
     "text": [
      "4\n"
     ]
    }
   ],
   "source": [
    "x,y = 4,5\n",
    "if x>y:\n",
    "    small = y\n",
    "else:\n",
    "    small = x\n",
    "print(small)"
   ]
  },
  {
   "cell_type": "code",
   "execution_count": 19,
   "metadata": {},
   "outputs": [
    {
     "name": "stdout",
     "output_type": "stream",
     "text": [
      "4\n"
     ]
    }
   ],
   "source": [
    "x,y = 4,5\n",
    "small = x if x<y else y\n",
    "print(small)"
   ]
  },
  {
   "cell_type": "markdown",
   "metadata": {},
   "source": [
    "\n",
    "<b>其他运算符</b>\n",
    "\n",
    "操作符 | 名称 | 示例\n",
    ":---:|:---:|:---:\n",
    "`in`|存在| `'A' in ['A', 'B', 'C']`\n",
    "`not in`|不存在|`'h' not in ['A', 'B', 'C']`\n",
    "`is`|是| `\"hello\" is \"hello\"`\n",
    "`not is`|不是|`\"hello\" is not \"hello\"`\n",
    "\n",
    "\n",
    "【例子】"
   ]
  },
  {
   "cell_type": "code",
   "execution_count": 21,
   "metadata": {},
   "outputs": [
    {
     "name": "stdout",
     "output_type": "stream",
     "text": [
      "651我在\n",
      "679不在\n"
     ]
    }
   ],
   "source": [
    "datastore = [\"651\",\"652\",\"670\"]\n",
    "if \"651\" in datastore:\n",
    "    print(\"651我在\")\n",
    "if \"679\" not in datastore:\n",
    "    print(\"679不在\")"
   ]
  },
  {
   "cell_type": "code",
   "execution_count": 22,
   "metadata": {},
   "outputs": [
    {
     "name": "stdout",
     "output_type": "stream",
     "text": [
      "True True\n"
     ]
    }
   ],
   "source": [
    "A = \"hello\"\n",
    "B = \"hello\"\n",
    "print(A==B,A is B)"
   ]
  },
  {
   "cell_type": "code",
   "execution_count": 24,
   "metadata": {},
   "outputs": [
    {
     "name": "stdout",
     "output_type": "stream",
     "text": [
      "True False\n"
     ]
    }
   ],
   "source": [
    "C = [\"happy\"]\n",
    "D = [\"happy\"]\n",
    "print(C ==D,C is D)"
   ]
  },
  {
   "cell_type": "code",
   "execution_count": 26,
   "metadata": {},
   "outputs": [
    {
     "name": "stdout",
     "output_type": "stream",
     "text": [
      "True\n",
      "True\n"
     ]
    }
   ],
   "source": [
    "print(C[0] == D[0])\n",
    "print(C[0] is D[0])"
   ]
  },
  {
   "cell_type": "markdown",
   "metadata": {},
   "source": [
    "\n",
    "注意：\n",
    "- is, is not 对比的是两个变量的内存地址\n",
    "- ==, != 对比的是两个变量的值\n",
    "- 比较的两个变量，指向的都是地址不可变的类型（str等），那么is，is not 和 ==，！= 是完全等价的。\n",
    "- 对比的两个变量，指向的是地址可变的类型（list，dict，tuple等），则两者是有区别的。\n",
    "\n",
    "\n",
    "<b>运算符的优先级</b>\n",
    "\n",
    "- 一元运算符优于二元运算符。例如`3 ** -2`等价于`3 ** (-2)`。\n",
    "- 先算术运算，后移位运算，最后位运算。例如 `1 << 3 + 2 & 7`等价于 `(1 << (3 + 2)) & 7`。\n",
    "- 逻辑运算最后结合。例如`3 < 4 and 4 < 5`等价于`(3 < 4) and (4 < 5)`。\n",
    "\n",
    "【例子】"
   ]
  },
  {
   "cell_type": "code",
   "execution_count": 27,
   "metadata": {},
   "outputs": [
    {
     "name": "stdout",
     "output_type": "stream",
     "text": [
      "-9\n",
      "0.1111111111111111\n",
      "0\n",
      "-12.5\n",
      "True\n"
     ]
    }
   ],
   "source": [
    "print(-3 ** 2)  # -9\n",
    "print(3 ** -2)  # 0.1111111111111111\n",
    "print(1 << 3 + 2 & 7)  # 0\n",
    "print(-3 * 2 + 5 / -2 - 4)  # -12.5\n",
    "print(3 < 4 and 4 < 5)  # True"
   ]
  },
  {
   "cell_type": "markdown",
   "metadata": {},
   "source": [
    "## 变量和赋值\n",
    "\n",
    "- 在使用变量之前，需要对其先赋值。\n",
    "- 变量名可以包括字母、数字、下划线、但变量名不能以数字开头。\n",
    "- Python 变量名是大小写敏感的，foo != Foo。\n",
    "\n",
    "【例子】"
   ]
  },
  {
   "cell_type": "code",
   "execution_count": 1,
   "metadata": {},
   "outputs": [
    {
     "name": "stdout",
     "output_type": "stream",
     "text": [
      "脱口秀大会\n"
     ]
    }
   ],
   "source": [
    "teacher = \"脱口秀大会\"\n",
    "print(teacher)"
   ]
  },
  {
   "cell_type": "code",
   "execution_count": 2,
   "metadata": {},
   "outputs": [],
   "source": [
    "first = 2\n",
    "second = 3"
   ]
  },
  {
   "cell_type": "code",
   "execution_count": 3,
   "metadata": {},
   "outputs": [
    {
     "name": "stdout",
     "output_type": "stream",
     "text": [
      "5\n"
     ]
    }
   ],
   "source": [
    "sum = first + second\n",
    "print(sum)"
   ]
  },
  {
   "cell_type": "code",
   "execution_count": 4,
   "metadata": {},
   "outputs": [
    {
     "name": "stdout",
     "output_type": "stream",
     "text": [
      "脱口秀大会王建国\n"
     ]
    }
   ],
   "source": [
    "my = \"脱口秀大会\"\n",
    "he = \"王建国\"\n",
    "print(my+he)"
   ]
  },
  {
   "cell_type": "markdown",
   "metadata": {},
   "source": [
    "## 数据类型与转换 "
   ]
  },
  {
   "cell_type": "markdown",
   "metadata": {},
   "source": [
    "类型 | 名称 | 示例\n",
    ":---:|:---:|:---:\n",
    "int | 整型 `<class 'int'>`| `-876, 10`\n",
    "float | 浮点型`<class 'float'>`| `3.149, 11.11`\n",
    "bool | 布尔型`<class 'bool'>` | `True, False`\n",
    "\n",
    "<b>整型</b>\n",
    "\n",
    "【例子】通过 `print()` 可看出 `a` 的值，以及类 (class) 是`int`。"
   ]
  },
  {
   "cell_type": "code",
   "execution_count": 5,
   "metadata": {},
   "outputs": [
    {
     "name": "stdout",
     "output_type": "stream",
     "text": [
      "1516 <class 'int'>\n"
     ]
    }
   ],
   "source": [
    "a = 1516\n",
    "print(a,type(a))"
   ]
  },
  {
   "cell_type": "code",
   "execution_count": 6,
   "metadata": {},
   "outputs": [
    {
     "name": "stdout",
     "output_type": "stream",
     "text": [
      "167.996 <class 'float'>\n"
     ]
    }
   ],
   "source": [
    "c = 167.996\n",
    "print(c,type(c))"
   ]
  },
  {
   "cell_type": "code",
   "execution_count": 7,
   "metadata": {},
   "outputs": [
    {
     "name": "stdout",
     "output_type": "stream",
     "text": [
      "<class 'int'>\n"
     ]
    }
   ],
   "source": [
    "print(int)"
   ]
  },
  {
   "cell_type": "code",
   "execution_count": 16,
   "metadata": {},
   "outputs": [
    {
     "name": "stdout",
     "output_type": "stream",
     "text": [
      "faofaof\n"
     ]
    }
   ],
   "source": [
    "d = 672\n",
    "if 800<=d<=1000:\n",
    "    print(\"chaofd\")\n",
    "else:\n",
    "    print(\"faofaof\")"
   ]
  },
  {
   "cell_type": "code",
   "execution_count": 10,
   "metadata": {},
   "outputs": [
    {
     "name": "stdout",
     "output_type": "stream",
     "text": [
      "['__abs__', '__add__', '__and__', '__bool__', '__ceil__', '__class__', '__delattr__', '__dir__', '__divmod__', '__doc__', '__eq__', '__float__', '__floor__', '__floordiv__', '__format__', '__ge__', '__getattribute__', '__getnewargs__', '__gt__', '__hash__', '__index__', '__init__', '__init_subclass__', '__int__', '__invert__', '__le__', '__lshift__', '__lt__', '__mod__', '__mul__', '__ne__', '__neg__', '__new__', '__or__', '__pos__', '__pow__', '__radd__', '__rand__', '__rdivmod__', '__reduce__', '__reduce_ex__', '__repr__', '__rfloordiv__', '__rlshift__', '__rmod__', '__rmul__', '__ror__', '__round__', '__rpow__', '__rrshift__', '__rshift__', '__rsub__', '__rtruediv__', '__rxor__', '__setattr__', '__sizeof__', '__str__', '__sub__', '__subclasshook__', '__truediv__', '__trunc__', '__xor__', 'bit_length', 'conjugate', 'denominator', 'from_bytes', 'imag', 'numerator', 'real', 'to_bytes']\n"
     ]
    }
   ],
   "source": [
    "b = dir(int)\n",
    "print(b)"
   ]
  },
  {
   "cell_type": "code",
   "execution_count": 11,
   "metadata": {},
   "outputs": [
    {
     "name": "stdout",
     "output_type": "stream",
     "text": [
      "0b10000000111\n"
     ]
    }
   ],
   "source": [
    "a = 1031\n",
    "print(bin(a))"
   ]
  },
  {
   "cell_type": "code",
   "execution_count": 12,
   "metadata": {},
   "outputs": [
    {
     "name": "stdout",
     "output_type": "stream",
     "text": [
      "11\n"
     ]
    }
   ],
   "source": [
    "print(a.bit_length())"
   ]
  },
  {
   "cell_type": "code",
   "execution_count": 13,
   "metadata": {},
   "outputs": [
    {
     "name": "stdout",
     "output_type": "stream",
     "text": [
      "1 <class 'int'>\n",
      "1 <class 'float'>\n"
     ]
    }
   ],
   "source": [
    "print(1,type(1))\n",
    "\n",
    "print(1,type(1.))"
   ]
  },
  {
   "cell_type": "code",
   "execution_count": 17,
   "metadata": {},
   "outputs": [
    {
     "name": "stdout",
     "output_type": "stream",
     "text": [
      "9\n"
     ]
    }
   ],
   "source": [
    "b = 331\n",
    "a = \"5\" if 0<=b<=10 else \"9\"\n",
    "print(a)"
   ]
  },
  {
   "cell_type": "code",
   "execution_count": 19,
   "metadata": {},
   "outputs": [
    {
     "name": "stdout",
     "output_type": "stream",
     "text": [
      "2.3e-07\n",
      "2.3e-07\n"
     ]
    }
   ],
   "source": [
    "a = 0.00000023\n",
    "b = 2.3e-7\n",
    "print(a)\n",
    "print(b)"
   ]
  },
  {
   "cell_type": "code",
   "execution_count": 33,
   "metadata": {},
   "outputs": [],
   "source": [
    "import decimal\n",
    "from decimal import Decimal"
   ]
  },
  {
   "cell_type": "code",
   "execution_count": 34,
   "metadata": {},
   "outputs": [
    {
     "name": "stdout",
     "output_type": "stream",
     "text": [
      "Context(prec=28, rounding=ROUND_HALF_EVEN, Emin=-999999, Emax=999999, capitals=1, clamp=0, flags=[], traps=[InvalidOperation, DivisionByZero, Overflow])\n"
     ]
    }
   ],
   "source": [
    "a = decimal.getcontext()\n",
    "print(a)"
   ]
  },
  {
   "cell_type": "code",
   "execution_count": 35,
   "metadata": {},
   "outputs": [
    {
     "name": "stdout",
     "output_type": "stream",
     "text": [
      "['BasicContext', 'Clamped', 'Context', 'ConversionSyntax', 'Decimal', 'DecimalException', 'DecimalTuple', 'DefaultContext', 'DivisionByZero', 'DivisionImpossible', 'DivisionUndefined', 'ExtendedContext', 'FloatOperation', 'HAVE_THREADS', 'Inexact', 'InvalidContext', 'InvalidOperation', 'MAX_EMAX', 'MAX_PREC', 'MIN_EMIN', 'MIN_ETINY', 'Overflow', 'ROUND_05UP', 'ROUND_CEILING', 'ROUND_DOWN', 'ROUND_FLOOR', 'ROUND_HALF_DOWN', 'ROUND_HALF_EVEN', 'ROUND_HALF_UP', 'ROUND_UP', 'Rounded', 'Subnormal', 'Underflow', '__builtins__', '__cached__', '__doc__', '__file__', '__libmpdec_version__', '__loader__', '__name__', '__package__', '__spec__', '__version__', 'getcontext', 'localcontext', 'setcontext']\n"
     ]
    }
   ],
   "source": [
    "ad = dir(decimal)\n",
    "print(ad)"
   ]
  },
  {
   "cell_type": "code",
   "execution_count": 36,
   "metadata": {},
   "outputs": [
    {
     "name": "stdout",
     "output_type": "stream",
     "text": [
      "0.3333333333333333333333333333\n"
     ]
    }
   ],
   "source": [
    "print(Decimal(1)/Decimal(3))"
   ]
  },
  {
   "cell_type": "code",
   "execution_count": 37,
   "metadata": {},
   "outputs": [
    {
     "name": "stdout",
     "output_type": "stream",
     "text": [
      "Context(prec=4, rounding=ROUND_HALF_EVEN, Emin=-999999, Emax=999999, capitals=1, clamp=0, flags=[], traps=[InvalidOperation, DivisionByZero, Overflow])\n",
      "0.3333\n"
     ]
    }
   ],
   "source": [
    "decimal.getcontext().prec = 4\n",
    "print(decimal.getcontext())\n",
    "print(Decimal(1)/Decimal(3))"
   ]
  },
  {
   "cell_type": "code",
   "execution_count": 38,
   "metadata": {},
   "outputs": [
    {
     "name": "stdout",
     "output_type": "stream",
     "text": [
      "28\n",
      "0.3333333333333333333333333333\n"
     ]
    }
   ],
   "source": [
    "print(decimal.getcontext().prec)\n",
    "print(Decimal(1)/Decimal(3))"
   ]
  },
  {
   "cell_type": "code",
   "execution_count": 39,
   "metadata": {},
   "outputs": [
    {
     "name": "stdout",
     "output_type": "stream",
     "text": [
      "2\n",
      "1\n",
      "True\n"
     ]
    }
   ],
   "source": [
    "print(True + True)\n",
    "print(False + True)\n",
    "print(True)"
   ]
  },
  {
   "cell_type": "code",
   "execution_count": 40,
   "metadata": {},
   "outputs": [
    {
     "name": "stdout",
     "output_type": "stream",
     "text": [
      "<class 'int'> False True\n"
     ]
    }
   ],
   "source": [
    "print(type(0),bool(0),bool(783))"
   ]
  },
  {
   "cell_type": "code",
   "execution_count": 41,
   "metadata": {},
   "outputs": [
    {
     "name": "stdout",
     "output_type": "stream",
     "text": [
      "<class 'str'> True\n"
     ]
    }
   ],
   "source": [
    "print(type(\"dfafh\"),bool(\"foa\"))"
   ]
  },
  {
   "cell_type": "code",
   "execution_count": 43,
   "metadata": {},
   "outputs": [
    {
     "name": "stdout",
     "output_type": "stream",
     "text": [
      "<class 'str'> True False\n"
     ]
    }
   ],
   "source": [
    "print(type(\"0\"),bool(\"0\"),bool(int(\"0\")))"
   ]
  },
  {
   "cell_type": "code",
   "execution_count": 46,
   "metadata": {},
   "outputs": [
    {
     "name": "stdout",
     "output_type": "stream",
     "text": [
      "<class 'str'> False True\n"
     ]
    }
   ],
   "source": [
    "print(type(\"0\"),bool(\"\"),bool(\" \"))"
   ]
  },
  {
   "cell_type": "code",
   "execution_count": 44,
   "metadata": {},
   "outputs": [
    {
     "name": "stdout",
     "output_type": "stream",
     "text": [
      "<class 'list'> False True\n"
     ]
    }
   ],
   "source": [
    "print(type([]),bool([]),bool([\"python\"]))"
   ]
  },
  {
   "cell_type": "code",
   "execution_count": 47,
   "metadata": {},
   "outputs": [
    {
     "name": "stdout",
     "output_type": "stream",
     "text": [
      "<class 'dict'> False True\n"
     ]
    }
   ],
   "source": [
    "print(type({}),bool({}),bool({\"d\":4}))"
   ]
  },
  {
   "cell_type": "code",
   "execution_count": 53,
   "metadata": {},
   "outputs": [
    {
     "name": "stdout",
     "output_type": "stream",
     "text": [
      "<class 'tuple'> False True\n"
     ]
    }
   ],
   "source": [
    "print(type(()),bool(()),bool((1,2)))"
   ]
  },
  {
   "cell_type": "code",
   "execution_count": 55,
   "metadata": {},
   "outputs": [
    {
     "name": "stdout",
     "output_type": "stream",
     "text": [
      "<class 'set'> False\n"
     ]
    }
   ],
   "source": [
    "print(type(set()),bool(set())) #集合"
   ]
  },
  {
   "cell_type": "code",
   "execution_count": 57,
   "metadata": {},
   "outputs": [
    {
     "name": "stdout",
     "output_type": "stream",
     "text": [
      "False\n"
     ]
    }
   ],
   "source": [
    "print(isinstance(1.,int))"
   ]
  },
  {
   "cell_type": "code",
   "execution_count": 58,
   "metadata": {},
   "outputs": [
    {
     "name": "stdout",
     "output_type": "stream",
     "text": [
      "True\n"
     ]
    }
   ],
   "source": [
    "print(isinstance(\"python\",str))"
   ]
  },
  {
   "cell_type": "code",
   "execution_count": 59,
   "metadata": {},
   "outputs": [
    {
     "name": "stdout",
     "output_type": "stream",
     "text": [
      "False\n"
     ]
    }
   ],
   "source": [
    "print(isinstance(\"python\",bool))"
   ]
  },
  {
   "cell_type": "code",
   "execution_count": 60,
   "metadata": {},
   "outputs": [
    {
     "name": "stdout",
     "output_type": "stream",
     "text": [
      "True\n"
     ]
    }
   ],
   "source": [
    "print(isinstance(True,bool))"
   ]
  },
  {
   "cell_type": "code",
   "execution_count": 61,
   "metadata": {},
   "outputs": [
    {
     "name": "stdout",
     "output_type": "stream",
     "text": [
      "520\n",
      "520\n"
     ]
    }
   ],
   "source": [
    "print(int(\"520\"))\n",
    "print(int(520.52))"
   ]
  },
  {
   "cell_type": "code",
   "execution_count": 65,
   "metadata": {},
   "outputs": [
    {
     "name": "stdout",
     "output_type": "stream",
     "text": [
      "<class 'float'>\n",
      "520.52\n"
     ]
    }
   ],
   "source": [
    "print(type(float(\"520.52\")))\n",
    "print(float(\"520.52\"))"
   ]
  },
  {
   "cell_type": "code",
   "execution_count": 66,
   "metadata": {},
   "outputs": [
    {
     "name": "stdout",
     "output_type": "stream",
     "text": [
      "520.0\n"
     ]
    }
   ],
   "source": [
    "print(float(520))"
   ]
  },
  {
   "cell_type": "code",
   "execution_count": 70,
   "metadata": {},
   "outputs": [
    {
     "name": "stdout",
     "output_type": "stream",
     "text": [
      "20\n",
      "<class 'str'>\n"
     ]
    }
   ],
   "source": [
    "print(str(10+10))\n",
    "print(type(str(10+10)))"
   ]
  },
  {
   "cell_type": "code",
   "execution_count": 72,
   "metadata": {},
   "outputs": [
    {
     "name": "stdout",
     "output_type": "stream",
     "text": [
      "猜一猜666\n",
      "666\n",
      "游戏结束\n"
     ]
    }
   ],
   "source": [
    "temp = input(\"猜一猜\")\n",
    "guss = int(temp)\n",
    "if guss ==666:\n",
    "    print(\"666\")\n",
    "else:\n",
    "    print(\"错了\")\n",
    "print(\"游戏结束\")"
   ]
  },
  {
   "cell_type": "code",
   "execution_count": 73,
   "metadata": {},
   "outputs": [
    {
     "name": "stdout",
     "output_type": "stream",
     "text": [
      "更棒\n",
      "厉害\n"
     ]
    }
   ],
   "source": [
    "hi  = 6\n",
    "if hi > 3:\n",
    "    if hi >5:\n",
    "        print(\"更棒\")\n",
    "    print(\"厉害\")\n",
    "else:\n",
    "    print(\"nono\")"
   ]
  },
  {
   "cell_type": "code",
   "execution_count": 77,
   "metadata": {},
   "outputs": [
    {
     "name": "stdout",
     "output_type": "stream",
     "text": [
      "请输入成绩34\n",
      "输入错误\n"
     ]
    }
   ],
   "source": [
    "temp = input(\"请输入成绩\")\n",
    "source = int(temp)\n",
    "if 90<=source<=100:\n",
    "    print(\"A\")\n",
    "elif 80<=source<=90:\n",
    "    print(\"B\")\n",
    "else:\n",
    "    print(\"输入错误\")"
   ]
  },
  {
   "cell_type": "code",
   "execution_count": 78,
   "metadata": {},
   "outputs": [
    {
     "ename": "AssertionError",
     "evalue": "",
     "output_type": "error",
     "traceback": [
      "\u001b[1;31m---------------------------------------------------------------------------\u001b[0m",
      "\u001b[1;31mAssertionError\u001b[0m                            Traceback (most recent call last)",
      "\u001b[1;32m<ipython-input-78-4f48246e11da>\u001b[0m in \u001b[0;36m<module>\u001b[1;34m\u001b[0m\n\u001b[1;32m----> 1\u001b[1;33m \u001b[1;32massert\u001b[0m \u001b[1;36m3\u001b[0m\u001b[1;33m>\u001b[0m\u001b[1;36m7\u001b[0m\u001b[1;33m\u001b[0m\u001b[1;33m\u001b[0m\u001b[0m\n\u001b[0m",
      "\u001b[1;31mAssertionError\u001b[0m: "
     ]
    }
   ],
   "source": [
    "assert 3>7"
   ]
  },
  {
   "cell_type": "code",
   "execution_count": 81,
   "metadata": {},
   "outputs": [
    {
     "ename": "SyntaxError",
     "evalue": "invalid syntax (<ipython-input-81-7391f7176a9b>, line 2)",
     "output_type": "error",
     "traceback": [
      "\u001b[1;36m  File \u001b[1;32m\"<ipython-input-81-7391f7176a9b>\"\u001b[1;36m, line \u001b[1;32m2\u001b[0m\n\u001b[1;33m    print((assert 7>6))\u001b[0m\n\u001b[1;37m                ^\u001b[0m\n\u001b[1;31mSyntaxError\u001b[0m\u001b[1;31m:\u001b[0m invalid syntax\n"
     ]
    }
   ],
   "source": [
    "assert 7>6\n",
    "print((assert 7>6))"
   ]
  },
  {
   "cell_type": "code",
   "execution_count": 83,
   "metadata": {},
   "outputs": [
    {
     "name": "stdout",
     "output_type": "stream",
     "text": [
      "[]\n"
     ]
    },
    {
     "ename": "AssertionError",
     "evalue": "",
     "output_type": "error",
     "traceback": [
      "\u001b[1;31m---------------------------------------------------------------------------\u001b[0m",
      "\u001b[1;31mAssertionError\u001b[0m                            Traceback (most recent call last)",
      "\u001b[1;32m<ipython-input-83-e411e2920251>\u001b[0m in \u001b[0;36m<module>\u001b[1;34m\u001b[0m\n\u001b[0;32m      2\u001b[0m \u001b[0mmylist\u001b[0m\u001b[1;33m.\u001b[0m\u001b[0mpop\u001b[0m\u001b[1;33m(\u001b[0m\u001b[1;36m0\u001b[0m\u001b[1;33m)\u001b[0m\u001b[1;33m\u001b[0m\u001b[1;33m\u001b[0m\u001b[0m\n\u001b[0;32m      3\u001b[0m \u001b[0mprint\u001b[0m\u001b[1;33m(\u001b[0m\u001b[0mmylist\u001b[0m\u001b[1;33m)\u001b[0m\u001b[1;33m\u001b[0m\u001b[1;33m\u001b[0m\u001b[0m\n\u001b[1;32m----> 4\u001b[1;33m \u001b[1;32massert\u001b[0m \u001b[0mlen\u001b[0m\u001b[1;33m(\u001b[0m\u001b[0mmylist\u001b[0m\u001b[1;33m)\u001b[0m\u001b[1;33m>\u001b[0m\u001b[1;36m0\u001b[0m\u001b[1;33m\u001b[0m\u001b[1;33m\u001b[0m\u001b[0m\n\u001b[0m",
      "\u001b[1;31mAssertionError\u001b[0m: "
     ]
    }
   ],
   "source": [
    "mylist = [\"python\"]\n",
    "mylist.pop(0)\n",
    "print(mylist)\n",
    "assert len(mylist)>0"
   ]
  },
  {
   "cell_type": "code",
   "execution_count": 84,
   "metadata": {},
   "outputs": [
    {
     "name": "stdout",
     "output_type": "stream",
     "text": [
      "猜数字3\n",
      "小了\n",
      "猜数字2\n",
      "小了\n",
      "猜数字1\n",
      "小了\n",
      "结束\n"
     ]
    }
   ],
   "source": [
    "count = 0\n",
    "while count <3:\n",
    "    temp = input(\"猜数字\")\n",
    "    guess = int(temp)\n",
    "    if guess >8:\n",
    "        print(\"大了\")\n",
    "    else:\n",
    "        if guess == 8:\n",
    "            print(\"对了\")\n",
    "            count = 3\n",
    "        else:\n",
    "            print(\"小了\")\n",
    "    count = count +1\n",
    "print(\"结束\")"
   ]
  },
  {
   "cell_type": "code",
   "execution_count": 1,
   "metadata": {},
   "outputs": [
    {
     "name": "stdout",
     "output_type": "stream",
     "text": [
      "abcd\n",
      "bcd\n",
      "cd\n",
      "d\n"
     ]
    }
   ],
   "source": [
    "string = \"abcd\"\n",
    "while string:\n",
    "    print(string)\n",
    "    string = string[1:]"
   ]
  },
  {
   "cell_type": "code",
   "execution_count": 2,
   "metadata": {},
   "outputs": [
    {
     "name": "stdout",
     "output_type": "stream",
     "text": [
      "0 is less than 5\n",
      "1 is less than 5\n",
      "2 is less than 5\n",
      "3 is less than 5\n",
      "4 is less than 5\n",
      "5 is not less than 5\n"
     ]
    }
   ],
   "source": [
    "count = 0\n",
    "while count < 5:\n",
    "    print(\"%d is less than 5\"%count)\n",
    "    count = count + 1\n",
    "else:\n",
    "    print(\"%d is not less than 5\"%count)\n"
   ]
  },
  {
   "cell_type": "code",
   "execution_count": 3,
   "metadata": {},
   "outputs": [
    {
     "name": "stdout",
     "output_type": "stream",
     "text": [
      "0 is less than 5\n"
     ]
    }
   ],
   "source": [
    "count = 0\n",
    "while count < 5:\n",
    "    print(\"%d is less than 5\"%count)\n",
    "    count = 6\n",
    "    break\n",
    "else:\n",
    "    print(\"%d is not less than 5\"%count)"
   ]
  },
  {
   "cell_type": "code",
   "execution_count": 4,
   "metadata": {},
   "outputs": [
    {
     "name": "stdout",
     "output_type": "stream",
     "text": [
      "I l o v e S G O "
     ]
    }
   ],
   "source": [
    "for i in \"IloveSGO\":\n",
    "    print(i,end = \" \")"
   ]
  },
  {
   "cell_type": "code",
   "execution_count": 5,
   "metadata": {},
   "outputs": [
    {
     "name": "stdout",
     "output_type": "stream",
     "text": [
      "张三\n",
      "李四\n",
      "王五\n"
     ]
    }
   ],
   "source": [
    "member = [\"张三\",\"李四\",\"王五\"]\n",
    "for each in member:\n",
    "    print(each)"
   ]
  },
  {
   "cell_type": "code",
   "execution_count": 6,
   "metadata": {},
   "outputs": [
    {
     "name": "stdout",
     "output_type": "stream",
     "text": [
      "张三\n",
      "李四\n",
      "王五\n"
     ]
    }
   ],
   "source": [
    "for i in range(len(member)):\n",
    "    print(member[i])"
   ]
  },
  {
   "cell_type": "code",
   "execution_count": 7,
   "metadata": {},
   "outputs": [
    {
     "name": "stdout",
     "output_type": "stream",
     "text": [
      "a:1 b:2 c:3 "
     ]
    }
   ],
   "source": [
    "dic = {\"a\":1,\"b\":2,\"c\":3}\n",
    "for key,value in dic.items():\n",
    "    print(key,value,sep=\":\",end=' ')"
   ]
  },
  {
   "cell_type": "code",
   "execution_count": 13,
   "metadata": {},
   "outputs": [
    {
     "name": "stdout",
     "output_type": "stream",
     "text": [
      "a b c \n",
      "1 2 3 "
     ]
    }
   ],
   "source": [
    "for key in dic.keys():\n",
    "    print(key,end = \" \")\n",
    "print()\n",
    "for value in dic.values():\n",
    "    print(value,end = \" \")"
   ]
  },
  {
   "cell_type": "code",
   "execution_count": 14,
   "metadata": {},
   "outputs": [
    {
     "name": "stdout",
     "output_type": "stream",
     "text": [
      "10 等于 2 * 5\n",
      "11 是一个质数\n",
      "12 等于 2 * 6\n",
      "13 是一个质数\n",
      "14 等于 2 * 7\n",
      "15 等于 3 * 5\n",
      "16 等于 2 * 8\n",
      "17 是一个质数\n",
      "18 等于 2 * 9\n",
      "19 是一个质数\n"
     ]
    }
   ],
   "source": [
    "for num in range(10,20):\n",
    "    for i in range(2,num):\n",
    "        if num % i == 0:\n",
    "            j = num/i\n",
    "            print(\"%d 等于 %d * %d\"%(num,i,j))\n",
    "            break\n",
    "    else:\n",
    "        print(num,\"是一个质数\")"
   ]
  },
  {
   "cell_type": "code",
   "execution_count": 15,
   "metadata": {},
   "outputs": [
    {
     "name": "stdout",
     "output_type": "stream",
     "text": [
      "10 = 2 * 0\n",
      "11 是一个质数\n",
      "12 = 2 * 0\n",
      "13 是一个质数\n",
      "14 = 2 * 0\n",
      "15 = 3 * 0\n",
      "16 = 2 * 0\n",
      "17 是一个质数\n",
      "18 = 2 * 0\n",
      "19 是一个质数\n"
     ]
    }
   ],
   "source": [
    "for num in range(10,20):\n",
    "    for i in range(2,num):\n",
    "        if num%i==0:\n",
    "            j=num%i\n",
    "            print(\"%d = %d * %d\"%(num,i,j))\n",
    "            break\n",
    "    else:\n",
    "        print(num,\"是一个质数\")"
   ]
  },
  {
   "cell_type": "code",
   "execution_count": 16,
   "metadata": {},
   "outputs": [
    {
     "name": "stdout",
     "output_type": "stream",
     "text": [
      "2\n",
      "3\n",
      "4\n",
      "5\n",
      "6\n",
      "7\n",
      "8\n"
     ]
    }
   ],
   "source": [
    "for i in range(2,9):\n",
    "    print(i)"
   ]
  },
  {
   "cell_type": "code",
   "execution_count": 17,
   "metadata": {},
   "outputs": [
    {
     "name": "stdout",
     "output_type": "stream",
     "text": [
      "1\n",
      "3\n",
      "5\n",
      "7\n",
      "9\n"
     ]
    }
   ],
   "source": [
    "for i in range(1,10,2):\n",
    "    print(i)"
   ]
  },
  {
   "cell_type": "code",
   "execution_count": 18,
   "metadata": {},
   "outputs": [
    {
     "name": "stdout",
     "output_type": "stream",
     "text": [
      "[(0, 'python'), (1, 'java'), (2, 'shell'), (3, 'c++')]\n"
     ]
    }
   ],
   "source": [
    "seasons = [\"python\",\"java\",\"shell\",\"c++\"]\n",
    "lst = list(enumerate(seasons))\n",
    "print(lst)"
   ]
  },
  {
   "cell_type": "code",
   "execution_count": 20,
   "metadata": {},
   "outputs": [
    {
     "name": "stdout",
     "output_type": "stream",
     "text": [
      "[(0, 'python'), (1, 'java'), (2, 'shell'), (3, 'c++')]\n",
      "[(1, 'python'), (2, 'java'), (3, 'shell'), (4, 'c++')]\n"
     ]
    }
   ],
   "source": [
    "lst = list(enumerate(seasons))\n",
    "print(lst)\n",
    "lst = list(enumerate(seasons,start=1))\n",
    "print(lst)"
   ]
  },
  {
   "cell_type": "code",
   "execution_count": null,
   "metadata": {},
   "outputs": [],
   "source": [
    "lan = [\"python\"]"
   ]
  }
 ],
 "metadata": {
  "kernelspec": {
   "display_name": "Python 3",
   "language": "python",
   "name": "python3"
  },
  "language_info": {
   "codemirror_mode": {
    "name": "ipython",
    "version": 3
   },
   "file_extension": ".py",
   "mimetype": "text/x-python",
   "name": "python",
   "nbconvert_exporter": "python",
   "pygments_lexer": "ipython3",
   "version": "3.7.6"
  },
  "toc": {
   "base_numbering": 1,
   "nav_menu": {},
   "number_sections": true,
   "sideBar": true,
   "skip_h1_title": false,
   "title_cell": "Table of Contents",
   "title_sidebar": "Contents",
   "toc_cell": false,
   "toc_position": {},
   "toc_section_display": true,
   "toc_window_display": false
  }
 },
 "nbformat": 4,
 "nbformat_minor": 4
}
